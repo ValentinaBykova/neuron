{
  "nbformat": 4,
  "nbformat_minor": 0,
  "metadata": {
    "colab": {
      "name": "Untitled",
      "provenance": [],
      "authorship_tag": "ABX9TyOrJpFE5sDJmBZMWI/pPhyx",
      "include_colab_link": true
    },
    "kernelspec": {
      "name": "python3",
      "display_name": "Python 3"
    },
    "language_info": {
      "name": "python"
    }
  },
  "cells": [
    {
      "cell_type": "markdown",
      "metadata": {
        "id": "view-in-github",
        "colab_type": "text"
      },
      "source": [
        "<a href=\"https://colab.research.google.com/github/ValentinaBykova/neuron/blob/master/lab3/Lab3.ipynb\" target=\"_parent\"><img src=\"https://colab.research.google.com/assets/colab-badge.svg\" alt=\"Open In Colab\"/></a>"
      ]
    },
    {
      "cell_type": "markdown",
      "source": [
        "# Лабораторна робота №3\n",
        "## студентки КН-31, Бикової Валентини\n",
        "## Тема: Sklearn"
      ],
      "metadata": {
        "id": "LccY45XzTZQ1"
      }
    },
    {
      "cell_type": "markdown",
      "source": [
        "## Завдання 2. З використанням бібліотеки Sklearn вирішити задачу регресії."
      ],
      "metadata": {
        "id": "q7tR9PP7T7_L"
      }
    },
    {
      "cell_type": "markdown",
      "source": [
        "### Поглиблено вивчити функцію make_regression.\n",
        "### Згенерувати набір даних, поділити його на навчальний та тестовий набори"
      ],
      "metadata": {
        "id": "B64fK3pfXG7z"
      }
    },
    {
      "cell_type": "code",
      "source": [
        "import numpy as np\n",
        "import pandas as pd\n",
        "from matplotlib import pyplot\n",
        "from sklearn.datasets import make_regression\n",
        "from sklearn.linear_model import LinearRegression\n",
        "from sklearn.model_selection import train_test_split\n",
        "\n",
        "X, y=make_regression(n_samples=2900000, n_features=1, n_informative=5, bias=1.2, noise=8)\n",
        "X_train, x_test, y_train, y_test=train_test_split(X, y, test_size=0.2, random_state=0)\n",
        "pyplot.scatter(X,y)\n",
        "pyplot.show()"
      ],
      "metadata": {
        "colab": {
          "base_uri": "https://localhost:8080/",
          "height": 265
        },
        "id": "EOrevCkwUYJ_",
        "outputId": "763f7726-8598-405c-c006-4f0b5d47a96e"
      },
      "execution_count": 5,
      "outputs": [
        {
          "output_type": "display_data",
          "data": {
            "text/plain": [
              "<Figure size 432x288 with 1 Axes>"
            ],
            "image/png": "[encoded data removed]"
          },
          "metadata": {
            "needs_background": "light"
          }
        }
      ]
    },
    {
      "cell_type": "markdown",
      "source": [
        "### Створити модель, навчити її, спрогнозувати результати та відобразити їх на графіку."
      ],
      "metadata": {
        "id": "qqC_cC72ZZlR"
      }
    },
    {
      "cell_type": "code",
      "source": [
        "import numpy as np\n",
        "import pandas as pd\n",
        "from matplotlib import pyplot\n",
        "from sklearn.datasets import make_regression\n",
        "from sklearn.linear_model import LinearRegression\n",
        "from sklearn.model_selection import train_test_split\n",
        "\n",
        "model = LinearRegression().fit(X_train, y_train)\n",
        "r_sq = model.score(X, y)\n",
        "print('coefficient of determination:', r_sq)\n",
        "print('intercept:', model.intercept_)\n",
        "print('slope:', model.coef_)\n",
        "\n",
        "y_pred = model.predict(x_test)\n",
        "pyplot.scatter(x_test,y_pred)\n",
        "pyplot.show()"
      ],
      "metadata": {
        "colab": {
          "base_uri": "https://localhost:8080/",
          "height": 316
        },
        "id": "XB5JfMHSZkmT",
        "outputId": "01c598c0-44d3-43f5-c0ca-3c4c51ae15bd"
      },
      "execution_count": 12,
      "outputs": [
        {
          "output_type": "stream",
          "name": "stdout",
          "text": [
            "coefficient of determination: 0.9870082214778242\n",
            "intercept: 1.1993377030250176\n",
            "slope: [69.73344337]\n"
          ]
        },
        {
          "output_type": "display_data",
          "data": {
            "text/plain": [
              "<Figure size 432x288 with 1 Axes>"
            ],
            "image/png": "[encoded data removed]"
          },
          "metadata": {
            "needs_background": "light"
          }
        }
      ]
    },
    {
      "cell_type": "markdown",
      "source": [
        "### Обрахувати значення метрик якості"
      ],
      "metadata": {
        "id": "RZLzsxoibpDZ"
      }
    },
    {
      "cell_type": "code",
      "source": [
        "import numpy as np\n",
        "import pandas as pd\n",
        "from matplotlib import pyplot\n",
        "from sklearn.datasets import make_regression\n",
        "from sklearn.linear_model import LinearRegression\n",
        "from sklearn.model_selection import train_test_split\n",
        "from sklearn import metrics\n",
        "\n",
        "print('Mean Absolute Error:', metrics.mean_absolute_error(y_test, y_pred))\n",
        "print('Mean Squared Error:', metrics.mean_squared_error(y_test, y_pred))\n",
        "print('Root Mean Squared Error:', np.sqrt(metrics.mean_squared_error(y_test, y_pred)))"
      ],
      "metadata": {
        "colab": {
          "base_uri": "https://localhost:8080/"
        },
        "id": "38IDgyesbvNK",
        "outputId": "a7b388fd-c7a5-4314-f931-1850ad04cdae"
      },
      "execution_count": 13,
      "outputs": [
        {
          "output_type": "stream",
          "name": "stdout",
          "text": [
            "Mean Absolute Error: 6.375063517528263\n",
            "Mean Squared Error: 63.87040667008627\n",
            "Root Mean Squared Error: 7.99189631252097\n"
          ]
        }
      ]
    },
    {
      "cell_type": "markdown",
      "source": [
        "# Висновок\n",
        "## Під час даної лабораторної роботи була розглянута функція make_regression з бібліотеки Sklean. Нові знання були застосовані на практиці."
      ],
      "metadata": {
        "id": "6x4qWrhSclCl"
      }
    }
  ]
}