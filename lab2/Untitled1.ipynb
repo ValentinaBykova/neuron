{
  "nbformat": 4,
  "nbformat_minor": 0,
  "metadata": {
    "colab": {
      "name": "Untitled1.ipynb",
      "provenance": [],
      "toc_visible": true,
      "authorship_tag": "ABX9TyOGNYAqh55b7bowe8Uxgrg0",
      "include_colab_link": true
    },
    "kernelspec": {
      "name": "python3",
      "display_name": "Python 3"
    },
    "language_info": {
      "name": "python"
    }
  },
  "cells": [
    {
      "cell_type": "markdown",
      "metadata": {
        "id": "view-in-github",
        "colab_type": "text"
      },
      "source": [
        "<a href=\"https://colab.research.google.com/github/ValentinaBykova/neuron/blob/master/lab2/Untitled1.ipynb\" target=\"_parent\"><img src=\"https://colab.research.google.com/assets/colab-badge.svg\" alt=\"Open In Colab\"/></a>"
      ]
    },
    {
      "cell_type": "markdown",
      "source": [
        "# Лабораторна робота №2\n",
        "## студентки КН-31, Бикової Валентини\n",
        "## Тема: TensorFlow\n",
        "\n"
      ],
      "metadata": {
        "id": "ICTj1FbQauLD"
      }
    },
    {
      "cell_type": "markdown",
      "source": [
        "# Завдання 2\n"
      ],
      "metadata": {
        "id": "qcEYJEge9D1I"
      }
    },
    {
      "cell_type": "markdown",
      "source": [
        "## Знати різні способи створення тензорів"
      ],
      "metadata": {
        "id": "U2FTILN-gLAl"
      }
    },
    {
      "cell_type": "code",
      "source": [
        "import numpy as np\n",
        "import tensorflow as tf\n",
        "\n",
        "tensor = tf.constant([[[1, 2, 3],\n",
        "                       [4, 5, 6]],\n",
        "                      [[7, 8, 9],\n",
        "                       [10, 11, 12]],\n",
        "                      [[13, 14, 15],\n",
        "                       [16, 17, 18]]])\n",
        "tensor"
      ],
      "metadata": {
        "colab": {
          "base_uri": "https://localhost:8080/"
        },
        "id": "CRKAe-kfb962",
        "outputId": "51806cf8-470d-417c-b0f5-c6475390a08f"
      },
      "execution_count": 14,
      "outputs": [
        {
          "output_type": "execute_result",
          "data": {
            "text/plain": [
              "<tf.Tensor: shape=(3, 2, 3), dtype=int32, numpy=\n",
              "array([[[ 1,  2,  3],\n",
              "        [ 4,  5,  6]],\n",
              "\n",
              "       [[ 7,  8,  9],\n",
              "        [10, 11, 12]],\n",
              "\n",
              "       [[13, 14, 15],\n",
              "        [16, 17, 18]]], dtype=int32)>"
            ]
          },
          "metadata": {},
          "execution_count": 14
        }
      ]
    },
    {
      "cell_type": "code",
      "source": [
        "import numpy as np\n",
        "import tensorflow as tf\n",
        "\n",
        "print(tf.random.Generator.from_seed(42).normal(shape=(3,2)))"
      ],
      "metadata": {
        "colab": {
          "base_uri": "https://localhost:8080/"
        },
        "id": "KIsQJc9DfRGG",
        "outputId": "915212e0-c107-4165-f58e-dc678d98a1b9"
      },
      "execution_count": 15,
      "outputs": [
        {
          "output_type": "stream",
          "name": "stdout",
          "text": [
            "tf.Tensor(\n",
            "[[-0.7565803  -0.06854702]\n",
            " [ 0.07595026 -1.2573844 ]\n",
            " [-0.23193763 -1.8107855 ]], shape=(3, 2), dtype=float32)\n"
          ]
        }
      ]
    },
    {
      "cell_type": "markdown",
      "source": [
        "## Створити набір даних із заданим розподілом (розподіл та розмір за власним рішенням), визначити його властивості (shape, rank, size, axis)"
      ],
      "metadata": {
        "id": "1dZAe_aIb-Kt"
      }
    },
    {
      "cell_type": "code",
      "source": [
        "import numpy as np\n",
        "import tensorflow as tf\n",
        "\n",
        "tensor = tf.Variable([\n",
        "                   [3, 1, 6, 9],\n",
        "                   [11, 0, 21, 2],\n",
        "                   [4, 10, 15, 5]\n",
        "])\n",
        "\n",
        "print(tensor.shape)\n",
        "print(tf.rank(tensor))\n",
        "print(tf.size(tensor))\n",
        "print(tf.expand_dims(tensor, axis=-1))"
      ],
      "metadata": {
        "colab": {
          "base_uri": "https://localhost:8080/"
        },
        "id": "k9xrNb50cFh3",
        "outputId": "88e2fa47-f3fa-4b6f-a53b-ead4dfb4dc5e"
      },
      "execution_count": 19,
      "outputs": [
        {
          "output_type": "stream",
          "name": "stdout",
          "text": [
            "(3, 4)\n",
            "tf.Tensor(2, shape=(), dtype=int32)\n",
            "tf.Tensor(12, shape=(), dtype=int32)\n",
            "tf.Tensor(\n",
            "[[[ 3]\n",
            "  [ 1]\n",
            "  [ 6]\n",
            "  [ 9]]\n",
            "\n",
            " [[11]\n",
            "  [ 0]\n",
            "  [21]\n",
            "  [ 2]]\n",
            "\n",
            " [[ 4]\n",
            "  [10]\n",
            "  [15]\n",
            "  [ 5]]], shape=(3, 4, 1), dtype=int32)\n"
          ]
        }
      ]
    },
    {
      "cell_type": "markdown",
      "source": [
        "## Продемонструвати основні математичні операції над тензорами"
      ],
      "metadata": {
        "id": "keQg-QeVcFvR"
      }
    },
    {
      "cell_type": "code",
      "source": [
        "import numpy as np\n",
        "import tensorflow as tf\n",
        "\n",
        "tensor = tf.Variable([\n",
        "                   [3, 1, 6, 9],\n",
        "                   [11, 0, 21, 2],\n",
        "                   [4, 10, 15, 5]\n",
        "])\n",
        "\n",
        "print(tensor+10)\n",
        "print(tensor-10)\n",
        "print(tensor*10)\n",
        "print(tensor@tf.reshape(tensor, shape=(4, 3)))"
      ],
      "metadata": {
        "colab": {
          "base_uri": "https://localhost:8080/"
        },
        "id": "mdwbub3HcMLi",
        "outputId": "fb46ab14-2103-4247-ad2f-59c4a7c0e63e"
      },
      "execution_count": 23,
      "outputs": [
        {
          "output_type": "stream",
          "name": "stdout",
          "text": [
            "tf.Tensor(\n",
            "[[13 11 16 19]\n",
            " [21 10 31 12]\n",
            " [14 20 25 15]], shape=(3, 4), dtype=int32)\n",
            "tf.Tensor(\n",
            "[[ -7  -9  -4  -1]\n",
            " [  1 -10  11  -8]\n",
            " [ -6   0   5  -5]], shape=(3, 4), dtype=int32)\n",
            "tf.Tensor(\n",
            "[[ 30  10  60  90]\n",
            " [110   0 210  20]\n",
            " [ 40 100 150  50]], shape=(3, 4), dtype=int32)\n",
            "tf.Tensor(\n",
            "[[234 161  87]\n",
            " [494  83 160]\n",
            " [467 219 109]], shape=(3, 3), dtype=int32)\n"
          ]
        }
      ]
    },
    {
      "cell_type": "markdown",
      "source": [
        "## Провести CRUD операції над даними, reshape, інтеграцію з np.array, pd.DataFrame)"
      ],
      "metadata": {
        "id": "TCjyJ_IAcMVv"
      }
    },
    {
      "cell_type": "code",
      "source": [
        "import numpy as np\n",
        "import tensorflow as tf\n",
        "import pandas as pd\n",
        "\n",
        "tensor = tf.Variable([\n",
        "                   [3, 1, 6, 9],\n",
        "                   [11, 0, 21, 2],\n",
        "                   [4, 10, 15, 5]\n",
        "]) \n",
        "\n",
        "tf.compat.v1.assign(tensor[2], [1, 2, 9, 5])\n",
        "print(tf.slice(tensor, [1, 0], [1, 4]))\n",
        "print(tf.reshape(tensor, shape=(4, 3)))\n",
        "print(tf.Variable(np.array([[3, 1], [15, 5]])))\n",
        "print(tf.Variable(pd.DataFrame([[11, 0], [4, 10]])))"
      ],
      "metadata": {
        "colab": {
          "base_uri": "https://localhost:8080/"
        },
        "id": "Olw4rLTUcUQ2",
        "outputId": "381976e1-bbc3-4e2c-ead6-defe2791b1db"
      },
      "execution_count": 33,
      "outputs": [
        {
          "output_type": "stream",
          "name": "stdout",
          "text": [
            "tf.Tensor([[11  0 21  2]], shape=(1, 4), dtype=int32)\n",
            "tf.Tensor(\n",
            "[[ 3  1  6]\n",
            " [ 9 11  0]\n",
            " [21  2  1]\n",
            " [ 2  9  5]], shape=(4, 3), dtype=int32)\n",
            "<tf.Variable 'Variable:0' shape=(2, 2) dtype=int64, numpy=\n",
            "array([[ 3,  1],\n",
            "       [15,  5]])>\n",
            "<tf.Variable 'Variable:0' shape=(2, 2) dtype=int64, numpy=\n",
            "array([[11,  0],\n",
            "       [ 4, 10]])>\n"
          ]
        }
      ]
    }
  ]
}